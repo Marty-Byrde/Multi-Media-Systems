{
 "cells": [
  {
   "cell_type": "code",
   "outputs": [],
   "source": [
    "import numpy as np\n",
    "from PIL import Image\n",
    "import scipy.fftpack\n",
    "import os\n",
    "\n",
    "def read_image(image_path):\n",
    "    # Read image and convert it to YCbCr (YUV) color space.\n",
    "    image = Image.open(image_path)\n",
    "    image_ycbcr = image.convert('YCbCr')\n",
    "    img_array = np.array(image_ycbcr, dtype=np.float32)\n",
    "    return img_array\n",
    "\n",
    "def chroma_subsampling(Cb, Cr):\n",
    "    # 4:2:0 Chroma Subsampling\n",
    "    Cb_subsampled = Cb[::2, ::2]\n",
    "    Cr_subsampled = Cr[::2, ::2]\n",
    "    return Cb_subsampled, Cr_subsampled\n",
    "\n"
   ],
   "metadata": {
    "collapsed": false
   },
   "id": "94861b841f370b29",
   "execution_count": null
  }
 ],
 "metadata": {
  "kernelspec": {
   "display_name": "Python 3 (ipykernel)",
   "language": "python",
   "name": "python3"
  },
  "language_info": {
   "codemirror_mode": {
    "name": "ipython",
    "version": 3
   },
   "file_extension": ".py",
   "mimetype": "text/x-python",
   "name": "python",
   "nbconvert_exporter": "python",
   "pygments_lexer": "ipython3",
   "version": "3.13.0"
  }
 },
 "nbformat": 4,
 "nbformat_minor": 5
}
