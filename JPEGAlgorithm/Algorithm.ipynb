{
 "cells": [
  {
   "cell_type": "code",
   "outputs": [],
   "source": [
    "import numpy as np\n",
    "from PIL import Image\n",
    "from scipy.fftpack import dct\n",
    "import os\n",
    "\n",
    "def read_image(image_path):\n",
    "    # Read image and convert it to YCbCr (YUV) color space.\n",
    "    image = Image.open(image_path)\n",
    "    image_ycbcr = image.convert('YCbCr')\n",
    "    img_array = np.array(image_ycbcr, dtype=float)\n",
    "    return img_array\n",
    "\n",
    "def chroma_subsampling(Cb, Cr):\n",
    "    # 4:2:0 Chroma Subsampling\n",
    "    Cb_subsampled = Cb[::2, ::2]\n",
    "    Cr_subsampled = Cr[::2, ::2]\n",
    "    return Cb_subsampled, Cr_subsampled\n",
    "\n",
    "def dct_transformation(channel, blocksize=8, transformationFunc = None):\n",
    "    # Dimensions of the image / chanel\n",
    "    h, w = channel.shape\n",
    "    \n",
    "    # Add Padding so that the image can be divided into blocks of 8 x 8 without any \"leftovers\"\n",
    "    h = (blocksize - (h % blocksize) ) % blocksize\n",
    "    w = (blocksize - (w % blocksize) ) % blocksize\n",
    "    channel = np.pad(channel, ((0, h), (0, w)), mode='constant', constant_values=0) # set the values of the padding to 0\n",
    "\n",
    "    transformedChanel = np.zeros(channel, dtype=float)\n",
    "    for i in range(0, channel.shape[0], blocksize):\n",
    "        for j in range(0, channel.shape[1], blocksize):\n",
    "            block = channel[i: i+blocksize, j: j+blocksize]\n",
    "            \n",
    "            if transformationFunc is None: \n",
    "                raise RuntimeError(\"No DCT transformation function has been provided!\")\n",
    "            \n",
    "            transformedBlock = transformationFunc(block)\n",
    "            transformedChanel[i: i+blocksize, j: j+blocksize] = transformedBlock\n",
    "\n",
    "    # Remove the overflow-padding that was added at the beginning\n",
    "    return transformedChanel[:h, :w] \n",
    "\n",
    "\n",
    "def dct_2d_block(block):\n",
    "    # Apply the two-dimensional dct transformation to a block of an image\n",
    "    return dct(dct(block.T, norm='ortho').T, norm='ortho')\n",
    "\n",
    "def main(): \n",
    "    image_path = \"OriginalImage.png\"\n",
    "    img_channels = read_image(image_path)\n",
    "    \n",
    "    Y = img_channels[:, :, 0]\n",
    "    Cb = img_channels[:, :, 1]\n",
    "    Cr = img_channels[:, :, 2]\n",
    "    \n",
    "    # 4:2:0 Chroma Subsampling\n",
    "    Cb_sampled, Cr_sampled = chroma_subsampling(Cb, Cr)\n",
    "\n",
    "\n",
    "    \n",
    "    \n",
    "    \n",
    "    \n",
    "    \n"
   ],
   "metadata": {
    "collapsed": false
   },
   "id": "94861b841f370b29",
   "execution_count": null
  }
 ],
 "metadata": {
  "kernelspec": {
   "display_name": "Python 3 (ipykernel)",
   "language": "python",
   "name": "python3"
  },
  "language_info": {
   "codemirror_mode": {
    "name": "ipython",
    "version": 3
   },
   "file_extension": ".py",
   "mimetype": "text/x-python",
   "name": "python",
   "nbconvert_exporter": "python",
   "pygments_lexer": "ipython3",
   "version": "3.13.0"
  }
 },
 "nbformat": 4,
 "nbformat_minor": 5
}
